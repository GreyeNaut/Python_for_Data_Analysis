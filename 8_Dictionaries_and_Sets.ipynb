{
  "nbformat": 4,
  "nbformat_minor": 0,
  "metadata": {
    "colab": {
      "provenance": [],
      "toc_visible": true,
      "authorship_tag": "ABX9TyOs1KHp2+yO2xpaijZjQEOM",
      "include_colab_link": true
    },
    "kernelspec": {
      "name": "python3",
      "display_name": "Python 3"
    },
    "language_info": {
      "name": "python"
    }
  },
  "cells": [
    {
      "cell_type": "markdown",
      "metadata": {
        "id": "view-in-github",
        "colab_type": "text"
      },
      "source": [
        "<a href=\"https://colab.research.google.com/github/GreyeNaut/Python_for_Data_Analysis/blob/main/8_Dictionaries_and_Sets.ipynb\" target=\"_parent\"><img src=\"https://colab.research.google.com/assets/colab-badge.svg\" alt=\"Open In Colab\"/></a>"
      ]
    },
    {
      "cell_type": "markdown",
      "source": [
        "## Dictionaries and Sets"
      ],
      "metadata": {
        "id": "-mMUywZd2Zl9"
      }
    },
    {
      "cell_type": "code",
      "source": [
        "# Dictionaries and Sets are two iterable data types\n",
        "# They allow quick retrieval of information throguh 'key values'\n",
        "\n",
        "# A typical dictionary consist in the following structure\n",
        "\n",
        "typical_dict = {\n",
        "    \"key1\": \"value1\",\n",
        "    \"key2\": \"value2\",\n",
        "    \"key3\": 3,\n",
        "    \"key4\": None,\n",
        "    \"key5\": [\"element1\", \"element2\"],\n",
        "    \"key6\": True,\n",
        "    1: \"Numbers can also be a key\"\n",
        "}\n",
        "\n",
        "print(typical_dict)\n",
        "\n",
        "# Note that dictionaries can contain all types of values"
      ],
      "metadata": {
        "colab": {
          "base_uri": "https://localhost:8080/"
        },
        "id": "OzDAueu12ckU",
        "outputId": "7d5aac8f-00f4-4841-e88c-28e6875807a0"
      },
      "execution_count": 6,
      "outputs": [
        {
          "output_type": "stream",
          "name": "stdout",
          "text": [
            "{'key1': 'value1', 'key2': 'value2', 'key3': 3, 'key4': None, 'key5': ['element1', 'element2'], 'key6': True, 1: 'Numbers can also be a key'}\n"
          ]
        }
      ]
    },
    {
      "cell_type": "code",
      "source": [
        "# To access a specific value, search through a key\n",
        "\n",
        "typical_dict[\"key1\"]"
      ],
      "metadata": {
        "colab": {
          "base_uri": "https://localhost:8080/",
          "height": 35
        },
        "id": "eo4c6I-d3Zpo",
        "outputId": "9a94e8c0-dd02-43eb-dedc-76f768a4dab2"
      },
      "execution_count": 7,
      "outputs": [
        {
          "output_type": "execute_result",
          "data": {
            "text/plain": [
              "'value1'"
            ],
            "application/vnd.google.colaboratory.intrinsic+json": {
              "type": "string"
            }
          },
          "metadata": {},
          "execution_count": 7
        }
      ]
    },
    {
      "cell_type": "code",
      "source": [
        "# And to access a list element, access the key and then index an element\n",
        "\n",
        "typical_dict[\"key5\"][1]"
      ],
      "metadata": {
        "colab": {
          "base_uri": "https://localhost:8080/",
          "height": 35
        },
        "id": "HH6Je9Xf4g43",
        "outputId": "5bf774cd-2347-4ea9-bc34-ab9ee383ff75"
      },
      "execution_count": 8,
      "outputs": [
        {
          "output_type": "execute_result",
          "data": {
            "text/plain": [
              "'element2'"
            ],
            "application/vnd.google.colaboratory.intrinsic+json": {
              "type": "string"
            }
          },
          "metadata": {},
          "execution_count": 8
        }
      ]
    },
    {
      "cell_type": "code",
      "source": [
        "# You cannot lock up dictionary values or indices\n",
        "\n",
        "typical_dict[\"value1\"]"
      ],
      "metadata": {
        "colab": {
          "base_uri": "https://localhost:8080/",
          "height": 176
        },
        "id": "BpU4hPK04p3r",
        "outputId": "f14940cc-3eb4-4818-bf40-c05f89a5aa3f"
      },
      "execution_count": 9,
      "outputs": [
        {
          "output_type": "error",
          "ename": "KeyError",
          "evalue": "'value1'",
          "traceback": [
            "\u001b[0;31m---------------------------------------------------------------------------\u001b[0m",
            "\u001b[0;31mKeyError\u001b[0m                                  Traceback (most recent call last)",
            "\u001b[0;32m<ipython-input-9-e89224bad2b2>\u001b[0m in \u001b[0;36m<cell line: 0>\u001b[0;34m()\u001b[0m\n\u001b[1;32m      1\u001b[0m \u001b[0;31m# You cannot lock up dictionary values or indices\u001b[0m\u001b[0;34m\u001b[0m\u001b[0;34m\u001b[0m\u001b[0m\n\u001b[1;32m      2\u001b[0m \u001b[0;34m\u001b[0m\u001b[0m\n\u001b[0;32m----> 3\u001b[0;31m \u001b[0mtypical_dict\u001b[0m\u001b[0;34m[\u001b[0m\u001b[0;34m\"value1\"\u001b[0m\u001b[0;34m]\u001b[0m\u001b[0;34m\u001b[0m\u001b[0;34m\u001b[0m\u001b[0m\n\u001b[0m",
            "\u001b[0;31mKeyError\u001b[0m: 'value1'"
          ]
        }
      ]
    },
    {
      "cell_type": "code",
      "source": [
        "# Dicionaties are iterables, thus you can loop trhough them and constitute memembership tests\n",
        "\n",
        "\"key1\" in typical_dict"
      ],
      "metadata": {
        "colab": {
          "base_uri": "https://localhost:8080/"
        },
        "id": "J5JWhVMi45r8",
        "outputId": "67591abc-5d28-450b-e596-ed3b536d1c8b"
      },
      "execution_count": 10,
      "outputs": [
        {
          "output_type": "execute_result",
          "data": {
            "text/plain": [
              "True"
            ]
          },
          "metadata": {},
          "execution_count": 10
        }
      ]
    },
    {
      "cell_type": "code",
      "source": [
        "for key in typical_dict:\n",
        "    print(key, typical_dict[key])"
      ],
      "metadata": {
        "colab": {
          "base_uri": "https://localhost:8080/"
        },
        "id": "ZF15p5mW5LCT",
        "outputId": "b99ef39f-75af-4d8f-b3fd-7f3f13071346"
      },
      "execution_count": 13,
      "outputs": [
        {
          "output_type": "stream",
          "name": "stdout",
          "text": [
            "key1 value1\n",
            "key2 value2\n",
            "key3 3\n",
            "key4 None\n",
            "key5 ['element1', 'element2']\n",
            "key6 True\n",
            "1 Numbers can also be a key\n"
          ]
        }
      ]
    },
    {
      "cell_type": "code",
      "source": [
        "# Modifying and adding new key-value pairs\n",
        "\n",
        "# To either modify or add a key-vale pair, declare the key with the value,\n",
        "# the value for an existing key will be overwritten, the value for a new one will be created\n",
        "\n",
        "typical_dict[\"key1\"] = \"value1.2\"\n",
        "typical_dict[\"key7\"] = \"value added\"\n",
        "\n",
        "typical_dict"
      ],
      "metadata": {
        "colab": {
          "base_uri": "https://localhost:8080/"
        },
        "id": "n1oFJTby5PmF",
        "outputId": "e7c2d1af-9ca2-48f2-fb8b-2fdf1c0ceded"
      },
      "execution_count": 14,
      "outputs": [
        {
          "output_type": "execute_result",
          "data": {
            "text/plain": [
              "{'key1': 'value1.2',\n",
              " 'key2': 'value2',\n",
              " 'key3': 3,\n",
              " 'key4': None,\n",
              " 'key5': ['element1', 'element2'],\n",
              " 'key6': True,\n",
              " 1: 'Numbers can also be a key',\n",
              " 'key7': 'value added'}"
            ]
          },
          "metadata": {},
          "execution_count": 14
        }
      ]
    },
    {
      "cell_type": "code",
      "source": [
        "# To delete a specific key-value pair, use de del keyword\n",
        "\n",
        "del typical_dict['key3']"
      ],
      "metadata": {
        "id": "cj5c_auD7oXP"
      },
      "execution_count": 15,
      "outputs": []
    },
    {
      "cell_type": "code",
      "source": [
        "typical_dict"
      ],
      "metadata": {
        "colab": {
          "base_uri": "https://localhost:8080/"
        },
        "id": "GpSmv14F7wR7",
        "outputId": "57dbfe53-eaec-4f54-eaa1-82fe2be41cdf"
      },
      "execution_count": 16,
      "outputs": [
        {
          "output_type": "execute_result",
          "data": {
            "text/plain": [
              "{'key1': 'value1.2',\n",
              " 'key2': 'value2',\n",
              " 'key4': None,\n",
              " 'key5': ['element1', 'element2'],\n",
              " 'key6': True,\n",
              " 1: 'Numbers can also be a key',\n",
              " 'key7': 'value added'}"
            ]
          },
          "metadata": {},
          "execution_count": 16
        }
      ]
    },
    {
      "cell_type": "markdown",
      "source": [
        "## ASSIGNMENT: Dictionary basics"
      ],
      "metadata": {
        "id": "hJRnC84A7xmO"
      }
    },
    {
      "cell_type": "markdown",
      "metadata": {
        "id": "6d74af00"
      },
      "source": [
        "### Snack Dictionary\n",
        "\n",
        "Hey, the current snack dictionary is below - thanks for your help with this!\n",
        "\n",
        "Run this first cell to create the `snacks` dictionary."
      ]
    },
    {
      "cell_type": "code",
      "execution_count": 17,
      "metadata": {
        "id": "5a5784f0"
      },
      "outputs": [],
      "source": [
        "snacks = {\n",
        "    'Sally': 'Popcorn',\n",
        "    'Ricard': 'Chocolate Ice Cream',\n",
        "    'Stuart': 'Apple Pie',\n",
        "    'Jerry': 'Raisins',\n",
        "    'Sierra': 'Peanut Butter Cookies'\n",
        "}"
      ]
    },
    {
      "cell_type": "markdown",
      "metadata": {
        "id": "4a543a30"
      },
      "source": [
        "Can you lookup Stuart's favorite snack?"
      ]
    },
    {
      "cell_type": "code",
      "execution_count": 19,
      "metadata": {
        "id": "36f6342a",
        "outputId": "e9a0e5c3-f8d4-47f9-ce38-909eb81de09c",
        "colab": {
          "base_uri": "https://localhost:8080/",
          "height": 35
        }
      },
      "outputs": [
        {
          "output_type": "execute_result",
          "data": {
            "text/plain": [
              "'Apple Pie'"
            ],
            "application/vnd.google.colaboratory.intrinsic+json": {
              "type": "string"
            }
          },
          "metadata": {},
          "execution_count": 19
        }
      ],
      "source": [
        "snacks[\"Stuart\"]"
      ]
    },
    {
      "cell_type": "markdown",
      "metadata": {
        "id": "e984e2be"
      },
      "source": [
        "Cool, that's one of my favorites too!\n",
        "\n",
        "Can you make the following changes do the dictionary?\n",
        "\n",
        "* Add me - 'Alfie', and my favorite snack, 'Cheese and Crackers'.\n",
        "* Change Jerry's favorite snack to 'Fig Bars'\n",
        "* Finally, remove Sierra, she never worked here, not sure how she got on the list."
      ]
    },
    {
      "cell_type": "code",
      "execution_count": 20,
      "metadata": {
        "id": "cad0e213",
        "outputId": "401409a2-689e-417e-a237-05fcfb0b3229",
        "colab": {
          "base_uri": "https://localhost:8080/"
        }
      },
      "outputs": [
        {
          "output_type": "execute_result",
          "data": {
            "text/plain": [
              "{'Sally': 'Popcorn',\n",
              " 'Ricard': 'Chocolate Ice Cream',\n",
              " 'Stuart': 'Apple Pie',\n",
              " 'Jerry': 'Fig Bars',\n",
              " 'Alfie': 'Cheese and Crackers'}"
            ]
          },
          "metadata": {},
          "execution_count": 20
        }
      ],
      "source": [
        "snacks[\"Alfie\"] = \"Cheese and Crackers\"\n",
        "snacks[\"Jerry\"] = \"Fig Bars\"\n",
        "\n",
        "del snacks['Sierra']\n",
        "\n",
        "snacks"
      ]
    },
    {
      "cell_type": "markdown",
      "source": [
        "## ASSIGNMENT: Dictionary creations"
      ],
      "metadata": {
        "id": "2Ov1JxQ678Jj"
      }
    },
    {
      "cell_type": "markdown",
      "metadata": {
        "id": "4bd4c63b"
      },
      "source": [
        "### Inventory Status\n",
        "\n",
        "Our products and inventory levels are in the lists below.\n",
        "\n",
        "Run the cell below to create the lists."
      ]
    },
    {
      "cell_type": "code",
      "execution_count": 21,
      "metadata": {
        "id": "f792cd46"
      },
      "outputs": [],
      "source": [
        "items = ['skis', 'snowboard', 'goggles', 'boots']\n",
        "inventory = [10, 0, 0, 7]"
      ]
    },
    {
      "cell_type": "markdown",
      "metadata": {
        "id": "00324274"
      },
      "source": [
        "### Inventory Status Dictionary\n",
        "\n",
        "Can you create a dictionary that:\n",
        "\n",
        "* Stores item name as keys\n",
        "* Values are 'sold out' if inventory is 0, and 'in stock' if not?\n",
        "\n",
        "Don't create this by writing out all the key value pairs!\n",
        "\n",
        "Thanks!"
      ]
    },
    {
      "cell_type": "code",
      "execution_count": 22,
      "metadata": {
        "id": "d3ba4f32"
      },
      "outputs": [],
      "source": [
        "inventory_status = {}\n",
        "\n",
        "for i,item in enumerate(items):\n",
        "    if inventory[i] == 0:\n",
        "        inventory_status[item] = \"sold out\"\n",
        "    else:\n",
        "        inventory_status[item] = \"in stock\""
      ]
    },
    {
      "cell_type": "code",
      "execution_count": 23,
      "metadata": {
        "id": "70e0112c",
        "outputId": "d1657477-2970-4c69-b224-e487fa5aa7c3",
        "colab": {
          "base_uri": "https://localhost:8080/"
        }
      },
      "outputs": [
        {
          "output_type": "execute_result",
          "data": {
            "text/plain": [
              "{'skis': 'in stock',\n",
              " 'snowboard': 'sold out',\n",
              " 'goggles': 'sold out',\n",
              " 'boots': 'in stock'}"
            ]
          },
          "metadata": {},
          "execution_count": 23
        }
      ],
      "source": [
        "inventory_status"
      ]
    },
    {
      "cell_type": "markdown",
      "source": [
        "## Keys and Value Methods"
      ],
      "metadata": {
        "id": "54401711"
      }
    },
    {
      "cell_type": "code",
      "source": [],
      "metadata": {
        "id": "_y7WmDxY-7pZ"
      },
      "execution_count": 23,
      "outputs": []
    },
    {
      "cell_type": "markdown",
      "source": [
        "## Get, Items and Update Methods"
      ],
      "metadata": {
        "id": "Syrqqwsp-8wf"
      }
    },
    {
      "cell_type": "code",
      "source": [],
      "metadata": {
        "id": "vxlchVhV_DsO"
      },
      "execution_count": null,
      "outputs": []
    },
    {
      "cell_type": "markdown",
      "source": [
        "## ASSIGNMENT: Dictionary Methods"
      ],
      "metadata": {
        "id": "FYsptKrr_Fov"
      }
    },
    {
      "cell_type": "code",
      "source": [],
      "metadata": {
        "id": "DuUKnNvQ_NFJ"
      },
      "execution_count": null,
      "outputs": []
    }
  ]
}