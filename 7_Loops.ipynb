{
  "nbformat": 4,
  "nbformat_minor": 0,
  "metadata": {
    "colab": {
      "provenance": [],
      "toc_visible": true,
      "authorship_tag": "ABX9TyO+k7BbX5gNuMhQdsRebKke",
      "include_colab_link": true
    },
    "kernelspec": {
      "name": "python3",
      "display_name": "Python 3"
    },
    "language_info": {
      "name": "python"
    }
  },
  "cells": [
    {
      "cell_type": "markdown",
      "metadata": {
        "id": "view-in-github",
        "colab_type": "text"
      },
      "source": [
        "<a href=\"https://colab.research.google.com/github/GreyeNaut/Python_for_Data_Analysis/blob/main/7_Loops.ipynb\" target=\"_parent\"><img src=\"https://colab.research.google.com/assets/colab-badge.svg\" alt=\"Open In Colab\"/></a>"
      ]
    },
    {
      "cell_type": "markdown",
      "source": [
        "# Loops"
      ],
      "metadata": {
        "id": "D2lRSEg86Os3"
      }
    },
    {
      "cell_type": "markdown",
      "source": [
        "## Loop basics\n",
        "\n",
        "- There are two distinct types of loops: 'for' and 'while' loops\n",
        "\n",
        "1. For loops are used when the number of times the code must run is known (length of a list, tuple, string...)\n",
        "2. While loops run until a certain logical condition is met"
      ],
      "metadata": {
        "id": "vk2zT7_66QvV"
      }
    },
    {
      "cell_type": "markdown",
      "source": [
        "## For Loops"
      ],
      "metadata": {
        "id": "_GoAPqU7AsXR"
      }
    },
    {
      "cell_type": "code",
      "source": [
        "# A for loop allows us to run certain piece of code for every element of a sequence\n",
        "\n",
        "iterable = [\"Backpack\", \"Guitar\", \"Notebook\", \"Coffee Mug\", \"Sunglasses\",\n",
        "            \"Watch\", \"Pen\", \"Headphones\", \"Wallet\", \"Sneakers\"]\n",
        "\n",
        "# This loop cycles through the 'iterable' list\n",
        "# It runs the same number of times as elements are in the iterable, to the iterable[len(iterable)-1] time\n",
        "for item in iterable:\n",
        "  print(item) # Like logicial condition, this piece of code is indented to indicate a fork in the code excecution\n",
        "\n",
        "# Item is a name given for the elements inside an iterable (whatever its name is)\n",
        "\n",
        "# There are three methods to run over sequences with for loops\n",
        "# 1.  The basic \"for item in iterable\", that is best for single sequences\n",
        "\n",
        "prices = [1200, 800, 150, 100, 50, 300, 200, 400, 500, 250]\n",
        "exchange_rate = 0.98\n",
        "new_prices = []\n",
        "\n",
        "for price in prices:\n",
        "  new_price = price*exchange_rate\n",
        "  new_prices.append(new_price)\n",
        "\n",
        "print(f\"The new prices for the prices list is {new_prices}\")\n",
        "\n",
        "# 2. The one that uses the range sequence and the lengtt of a given list, to run\n",
        "# over MULTIPLE lists ate the same time with the index\n",
        "\n",
        "prices = [1200, 800, 150, 100, 50, 300, 200, 400, 500, 250]\n",
        "items = [\"Laptop\", \"Smartphone\", \"Headphones\", \"Keyboard\", \"Mouse\",\n",
        "         \"Monitor\", \"Smartwatch\", \"Tablet\", \"Camera\", \"Speaker\"]\n",
        "\n",
        "for i in range(len(prices)):\n",
        "  new_price = prices[i]*exchange_rate\n",
        "  new_prices.append(new_price)\n",
        "  print(f\"The new price for {items[i]} is {new_price}\")\n",
        "\n",
        "\n",
        "# The better way is to use enumerate(iterable) thus will retuirn the index AND item of a given iterable, as it loops trhough it\n",
        "# Also is more efficient, it does'nt generate a new object\n",
        "\n",
        "print(\"\\n\")\n",
        "\n",
        "for index, item in enumerate(items):\n",
        "  new_price = prices[index]*exchange_rate\n",
        "  new_prices.append(new_price)\n",
        "  print(f\"The new price for {item} is {new_price}\")\n",
        "\n"
      ],
      "metadata": {
        "colab": {
          "base_uri": "https://localhost:8080/"
        },
        "id": "p5I964BB6U9b",
        "outputId": "67756084-d2a2-4d2b-ce40-f9ad6c4d5fac"
      },
      "execution_count": null,
      "outputs": [
        {
          "output_type": "stream",
          "name": "stdout",
          "text": [
            "Backpack\n",
            "Guitar\n",
            "Notebook\n",
            "Coffee Mug\n",
            "Sunglasses\n",
            "Watch\n",
            "Pen\n",
            "Headphones\n",
            "Wallet\n",
            "Sneakers\n",
            "The new prices for the prices list is [1176.0, 784.0, 147.0, 98.0, 49.0, 294.0, 196.0, 392.0, 490.0, 245.0]\n",
            "The new price for Laptop is 1176.0\n",
            "The new price for Smartphone is 784.0\n",
            "The new price for Headphones is 147.0\n",
            "The new price for Keyboard is 98.0\n",
            "The new price for Mouse is 49.0\n",
            "The new price for Monitor is 294.0\n",
            "The new price for Smartwatch is 196.0\n",
            "The new price for Tablet is 392.0\n",
            "The new price for Camera is 490.0\n",
            "The new price for Speaker is 245.0\n",
            "\n",
            "\n",
            "The new price for Laptop is 1176.0\n",
            "The new price for Smartphone is 784.0\n",
            "The new price for Headphones is 147.0\n",
            "The new price for Keyboard is 98.0\n",
            "The new price for Mouse is 49.0\n",
            "The new price for Monitor is 294.0\n",
            "The new price for Smartwatch is 196.0\n",
            "The new price for Tablet is 392.0\n",
            "The new price for Camera is 490.0\n",
            "The new price for Speaker is 245.0\n"
          ]
        }
      ]
    },
    {
      "cell_type": "markdown",
      "source": [
        "## ASSIGNMENT: For Loops (range)"
      ],
      "metadata": {
        "id": "k7icNzSPBbP-"
      }
    },
    {
      "cell_type": "markdown",
      "metadata": {
        "id": "d5858f7d"
      },
      "source": [
        "### Applying Sales Tax\n",
        "\n",
        "Last weekend our system went down and we didn't have a calculator on site, so we told customers we'd charge them for tax later.\n",
        "\n",
        "The transactions are below."
      ]
    },
    {
      "cell_type": "code",
      "execution_count": null,
      "metadata": {
        "id": "ecf7bfd9"
      },
      "outputs": [],
      "source": [
        "subtotals = [15.98, 899.97, 799.97, 117.96, 5.99, 599.99, 24.99, 1799.94, 99.99]"
      ]
    },
    {
      "cell_type": "markdown",
      "metadata": {
        "id": "e30ee503"
      },
      "source": [
        "Can you apply sales tax to all of the transactions?\n",
        "\n",
        "The tax rate is 8%.\n",
        "\n",
        "Once we've calculated the taxes, we'll need to add them to their subtotals and calculate the the total invoice value.\n",
        "\n",
        "Your code should produce two lists.\n",
        "\n",
        "* `taxes`:The first should be a list of the tax amounts on each transaction, rounded to the nearest .01.\n",
        "\n",
        "* `totals`: The second should be a list where each element is subtotal[i] + tax[i]"
      ]
    },
    {
      "cell_type": "code",
      "execution_count": null,
      "metadata": {
        "id": "70a25441",
        "colab": {
          "base_uri": "https://localhost:8080/"
        },
        "outputId": "dfc3a2cc-d67f-4cb5-94e7-4921592867f8"
      },
      "outputs": [
        {
          "output_type": "stream",
          "name": "stdout",
          "text": [
            "[1.28, 72.0, 64.0, 9.44, 0.48, 48.0, 2.0, 144.0, 8.0]\n",
            "[17.26, 971.97, 863.97, 127.4, 6.47, 647.99, 26.99, 1943.94, 107.99]\n"
          ]
        }
      ],
      "source": [
        "taxes = []\n",
        "totals = []\n",
        "\n",
        "# This is code Stuart used to calculate the tax and total\n",
        "# for a single subtotal, can you put them in a loop?\n",
        "\n",
        "for price in subtotals:\n",
        "    tax = round(price * .08, 2)\n",
        "    total = round(price + tax, 2)\n",
        "    taxes.append(tax)\n",
        "    totals.append(total)\n",
        "\n",
        "print(taxes)\n",
        "print(totals)"
      ]
    },
    {
      "cell_type": "markdown",
      "source": [
        "## ASSIGNMENT: For Loops (enumerate)"
      ],
      "metadata": {
        "id": "Iv-kSs97FvJH"
      }
    },
    {
      "cell_type": "markdown",
      "metadata": {
        "id": "3d38e815"
      },
      "source": [
        "### Sales Tax by State\n",
        "\n",
        "We forgot to account for the fact that different states have different tax rates, so we need to modify our loop we just built.\n",
        "\n",
        "We have a list containing the location of each purchase. The transaction `subtotal[i]` took place at `locations[i]`.\n"
      ]
    },
    {
      "cell_type": "code",
      "execution_count": null,
      "metadata": {
        "id": "92112278"
      },
      "outputs": [],
      "source": [
        "subtotals = [\n",
        "    15.98, 899.97, 799.97, 117.96, 5.99,\n",
        "    599.99, 24.99, 1799.94, 99.99\n",
        "]"
      ]
    },
    {
      "cell_type": "code",
      "execution_count": null,
      "metadata": {
        "id": "4f7db9ff"
      },
      "outputs": [],
      "source": [
        "location = [\n",
        "    'Sun Valley', 'Stowe', 'Mammoth', 'Stowe', 'Sun Valley',\n",
        "    'Mammoth', 'Mammoth', 'Mammoth', 'Sun Valley'\n",
        "]"
      ]
    },
    {
      "cell_type": "markdown",
      "metadata": {
        "id": "25acb2c7"
      },
      "source": [
        "The following tax rates should be applied for each location:\n",
        "\n",
        "* Sun Valley: 8%\n",
        "* Stowe: 6%\n",
        "* Mammoth: 7.75%"
      ]
    },
    {
      "cell_type": "code",
      "execution_count": null,
      "metadata": {
        "id": "ebb81a5a",
        "colab": {
          "base_uri": "https://localhost:8080/"
        },
        "outputId": "970ec503-6004-4b6a-fc36-47db8ae358d1"
      },
      "outputs": [
        {
          "output_type": "stream",
          "name": "stdout",
          "text": [
            "[1.24, 54.0, 62.0, 7.08, 0.46, 46.5, 1.94, 139.5, 7.75]\n",
            "[17.22, 953.97, 861.97, 125.04, 6.45, 646.49, 26.93, 1939.44, 107.74]\n"
          ]
        }
      ],
      "source": [
        "taxes = []\n",
        "totals = []\n",
        "\n",
        "# This is code Stuart used to calculate the tax and total\n",
        "# for a single subtotal, can you put them in a loop?\n",
        "\n",
        "Tax_Sun_Valley = 0.08\n",
        "Tax_Stowe = 0.06\n",
        "Tax_Mammoth = 0.0775\n",
        "\n",
        "for i, subtotal in enumerate(subtotals):\n",
        "    if location[i] == \"Sun Valley\":\n",
        "        tax = round(subtotal * Tax_Sun_Valley, 2)\n",
        "    if location[i] == \"Stowe\":\n",
        "        tax = round(subtotal * Tax_Stowe, 2)\n",
        "    else:\n",
        "        tax = round(subtotal * Tax_Mammoth, 2)\n",
        "    total = round(subtotal + tax, 2)\n",
        "    taxes.append(tax)\n",
        "    totals.append(total)\n",
        "\n",
        "print(taxes)\n",
        "print(totals)"
      ]
    },
    {
      "cell_type": "markdown",
      "source": [
        "## While loops"
      ],
      "metadata": {
        "id": "1b9cdb14"
      }
    },
    {
      "cell_type": "code",
      "source": [
        "# While loops run until certain logical condition is met\n",
        "\n",
        " # while logical expression:\n",
        "    # run this code\n",
        "\n",
        " # often inlcude counters that are increased by 1 in each iteration\n",
        "\n",
        "counter = 0\n",
        "\n",
        "while counter < 10:\n",
        "     counter += 1\n",
        "     print(counter)\n",
        "\n",
        "# Carefull, a mistake can run the loop infinetly!!"
      ],
      "metadata": {
        "colab": {
          "base_uri": "https://localhost:8080/"
        },
        "id": "6WgioO1FXi9F",
        "outputId": "033019ea-ee50-4ac8-faa7-8b6128a00c68"
      },
      "execution_count": null,
      "outputs": [
        {
          "output_type": "stream",
          "name": "stdout",
          "text": [
            "1\n",
            "2\n",
            "3\n",
            "4\n",
            "5\n",
            "6\n",
            "7\n",
            "8\n",
            "9\n",
            "10\n"
          ]
        }
      ]
    },
    {
      "cell_type": "code",
      "source": [
        "stock_portfolio = 10000\n",
        "year_counter = 0\n",
        "spending = 100\n",
        "\n",
        "while stock_portfolio < 500000:\n",
        "    investment_income = stock_portfolio*0.1\n",
        "    stock_portfolio += investment_income\n",
        "    stock_portfolio -= spending # Use += or -= to increase or decrease the amout of a variable\n",
        "    year_counter +=1\n",
        "\n",
        "    print(f'At year {year_counter}, i will have {round(stock_portfolio,2)}')"
      ],
      "metadata": {
        "colab": {
          "base_uri": "https://localhost:8080/"
        },
        "id": "LWWfVvU5fwfF",
        "outputId": "bdf8dcdd-3460-45b0-cb2a-f1bc3c0b889d"
      },
      "execution_count": null,
      "outputs": [
        {
          "output_type": "stream",
          "name": "stdout",
          "text": [
            "At year 1, i will have 10900.0\n",
            "At year 2, i will have 11890.0\n",
            "At year 3, i will have 12979.0\n",
            "At year 4, i will have 14176.9\n",
            "At year 5, i will have 15494.59\n",
            "At year 6, i will have 16944.05\n",
            "At year 7, i will have 18538.45\n",
            "At year 8, i will have 20292.3\n",
            "At year 9, i will have 22221.53\n",
            "At year 10, i will have 24343.68\n",
            "At year 11, i will have 26678.05\n",
            "At year 12, i will have 29245.86\n",
            "At year 13, i will have 32070.44\n",
            "At year 14, i will have 35177.49\n",
            "At year 15, i will have 38595.23\n",
            "At year 16, i will have 42354.76\n",
            "At year 17, i will have 46490.23\n",
            "At year 18, i will have 51039.26\n",
            "At year 19, i will have 56043.18\n",
            "At year 20, i will have 61547.5\n",
            "At year 21, i will have 67602.25\n",
            "At year 22, i will have 74262.47\n",
            "At year 23, i will have 81588.72\n",
            "At year 24, i will have 89647.59\n",
            "At year 25, i will have 98512.35\n",
            "At year 26, i will have 108263.59\n",
            "At year 27, i will have 118989.95\n",
            "At year 28, i will have 130788.94\n",
            "At year 29, i will have 143767.84\n",
            "At year 30, i will have 158044.62\n",
            "At year 31, i will have 173749.08\n",
            "At year 32, i will have 191023.99\n",
            "At year 33, i will have 210026.39\n",
            "At year 34, i will have 230929.03\n",
            "At year 35, i will have 253921.93\n",
            "At year 36, i will have 279214.12\n",
            "At year 37, i will have 307035.54\n",
            "At year 38, i will have 337639.09\n",
            "At year 39, i will have 371303.0\n",
            "At year 40, i will have 408333.3\n",
            "At year 41, i will have 449066.63\n",
            "At year 42, i will have 493873.29\n",
            "At year 43, i will have 543160.62\n"
          ]
        }
      ]
    },
    {
      "cell_type": "markdown",
      "metadata": {
        "id": "9a6ec912"
      },
      "source": [
        "### Calculate Projected Inventory for Each Month\n",
        "\n",
        "We currently have 686 pairs of skis in inventory, and sell 84 each month.\n",
        "\n",
        "Write a program that keeps track of monthly inventory, by subtracting 84 pairs of skis from inventory each month.\n",
        "\n",
        "Your program should print 'At the end of month x, we have y pairs of inventory', where x is the number of months that has gone by and y is the remaining inventory at that month.\n",
        "\n",
        "If inventory goes negative, your program should stop running.\n"
      ]
    },
    {
      "cell_type": "code",
      "execution_count": null,
      "metadata": {
        "id": "e1fa21a9",
        "colab": {
          "base_uri": "https://localhost:8080/"
        },
        "outputId": "fa4c4bcd-b422-4c51-d4be-66dd8ca985ec"
      },
      "outputs": [
        {
          "output_type": "stream",
          "name": "stdout",
          "text": [
            "At the end of month 1, we have 602 pairs of inventory\n",
            "At the end of month 2, we have 518 pairs of inventory\n",
            "At the end of month 3, we have 434 pairs of inventory\n",
            "At the end of month 4, we have 350 pairs of inventory\n",
            "At the end of month 5, we have 266 pairs of inventory\n",
            "At the end of month 6, we have 182 pairs of inventory\n",
            "At the end of month 7, we have 98 pairs of inventory\n",
            "At the end of month 8, we have 14 pairs of inventory\n",
            "At the end of month 9, we have -70 pairs of inventory\n"
          ]
        }
      ],
      "source": [
        "current_inventory = 686\n",
        "monthly_sales = 84\n",
        "month = 0\n",
        "\n",
        "while current_inventory > 0:\n",
        "    current_inventory -= monthly_sales\n",
        "    month += 1\n",
        "    print(f'At the end of month {month}, we have {current_inventory} pairs of inventory')"
      ]
    },
    {
      "cell_type": "markdown",
      "source": [
        "## Nested loops"
      ],
      "metadata": {
        "id": "2cDhxDZ4h1K2"
      }
    },
    {
      "cell_type": "code",
      "source": [
        "# Nested loops are loops nested within each oter\n",
        "# The nested loop is referred to as 'inner loop' the other is the 'outer loop'\n",
        "# They are often use for navigating nested lists and similar data structures\n",
        "\n",
        "students = [\"Alice\", \"Bob\", \"Charlie\", \"David\", \"Eve\"]\n",
        "subjects = [\"Math\", \"Science\", \"History\"]\n",
        "\n",
        "for student in students:\n",
        "    for subject in subjects:\n",
        "        print(f\"{student} is taking {subject}\")\n",
        "\n",
        "import random\n",
        "\n",
        "student_scores =[]\n",
        "\n",
        "for student in students:\n",
        "    scores =[]\n",
        "    for subject in subjects:\n",
        "        score = random.randint(50, 100)\n",
        "        scores.append(score)\n",
        "        print(f\"{student} has scored an {score} in {subject}\")\n",
        "    student_scores.append(scores)\n",
        "\n",
        "student_scores"
      ],
      "metadata": {
        "colab": {
          "base_uri": "https://localhost:8080/"
        },
        "id": "TGITRE9NiROR",
        "outputId": "81c5fe5a-a7ac-4da1-b8ad-0316a11326b1"
      },
      "execution_count": null,
      "outputs": [
        {
          "output_type": "stream",
          "name": "stdout",
          "text": [
            "Alice is taking Math\n",
            "Alice is taking Science\n",
            "Alice is taking History\n",
            "Bob is taking Math\n",
            "Bob is taking Science\n",
            "Bob is taking History\n",
            "Charlie is taking Math\n",
            "Charlie is taking Science\n",
            "Charlie is taking History\n",
            "David is taking Math\n",
            "David is taking Science\n",
            "David is taking History\n",
            "Eve is taking Math\n",
            "Eve is taking Science\n",
            "Eve is taking History\n",
            "Alice has scored an 58 in Math\n",
            "Alice has scored an 100 in Science\n",
            "Alice has scored an 76 in History\n",
            "Bob has scored an 90 in Math\n",
            "Bob has scored an 70 in Science\n",
            "Bob has scored an 85 in History\n",
            "Charlie has scored an 89 in Math\n",
            "Charlie has scored an 64 in Science\n",
            "Charlie has scored an 86 in History\n",
            "David has scored an 83 in Math\n",
            "David has scored an 57 in Science\n",
            "David has scored an 76 in History\n",
            "Eve has scored an 87 in Math\n",
            "Eve has scored an 52 in Science\n",
            "Eve has scored an 87 in History\n"
          ]
        },
        {
          "output_type": "execute_result",
          "data": {
            "text/plain": [
              "[[58, 100, 76], [90, 70, 85], [89, 64, 86], [83, 57, 76], [87, 52, 87]]"
            ]
          },
          "metadata": {},
          "execution_count": 30
        }
      ]
    },
    {
      "cell_type": "markdown",
      "metadata": {
        "id": "8d0a6882"
      },
      "source": [
        "### Apply Discounts for Multi-Order Customers\n",
        "\n",
        "We need to apply a 10% discount to every transaction in the list below.\n",
        "\n",
        "Assign the discounted transactions to a new list: `discounted_prices`."
      ]
    },
    {
      "cell_type": "code",
      "execution_count": null,
      "metadata": {
        "id": "c8e8c4ee",
        "colab": {
          "base_uri": "https://localhost:8080/"
        },
        "outputId": "f2466e22-6b8b-479d-a8ac-7ebbc702868e"
      },
      "outputs": [
        {
          "output_type": "execute_result",
          "data": {
            "text/plain": [
              "[[1799.94, 29.98, 99.99],\n",
              " [15.98, 119.99],\n",
              " [24.99, 24.99],\n",
              " [649.99, 99.99],\n",
              " [599.99, 399.97]]"
            ]
          },
          "metadata": {},
          "execution_count": 32
        }
      ],
      "source": [
        "orders_c00001 = [1799.94, 29.98, 99.99]\n",
        "orders_c00004 = [15.98, 119.99]\n",
        "orders_c00006 = [24.99, 24.99]\n",
        "orders_c00008 = [649.99, 99.99]\n",
        "orders_c00010 = [599.99, 399.97]\n",
        "\n",
        "multi_order_customers = [\n",
        "    [1799.94, 29.98, 99.99],\n",
        "    [15.98, 119.99],\n",
        "    [24.99, 24.99],\n",
        "    [649.99, 99.99],\n",
        "    [599.99, 399.97]\n",
        "]\n",
        "\n",
        "multi_order_customers"
      ]
    },
    {
      "cell_type": "code",
      "execution_count": null,
      "metadata": {
        "scrolled": true,
        "id": "274b47ee",
        "colab": {
          "base_uri": "https://localhost:8080/"
        },
        "outputId": "62436f9a-6640-4ba7-b2fc-30bd1b01ac78"
      },
      "outputs": [
        {
          "output_type": "execute_result",
          "data": {
            "text/plain": [
              "[[1619.95, 26.98, 89.99],\n",
              " [14.38, 107.99],\n",
              " [22.49, 22.49],\n",
              " [584.99, 89.99],\n",
              " [539.99, 359.97]]"
            ]
          },
          "metadata": {},
          "execution_count": 39
        }
      ],
      "source": [
        "discounted_prices = []\n",
        "\n",
        "for order in multi_order_customers:\n",
        "    customer_dicounted_prices = []\n",
        "    for price in order:\n",
        "        discounted_price = round(price * 0.9,2)\n",
        "        customer_dicounted_prices.append(discounted_price)\n",
        "    discounted_prices.append(customer_dicounted_prices)\n",
        "\n",
        "discounted_prices"
      ]
    },
    {
      "cell_type": "markdown",
      "source": [
        "## Loop Control"
      ],
      "metadata": {
        "id": "iLTfaZiinWyt"
      }
    },
    {
      "cell_type": "code",
      "source": [
        "# What is loop control"
      ],
      "metadata": {
        "id": "O-Z0b1I2nx9S"
      },
      "execution_count": null,
      "outputs": []
    },
    {
      "cell_type": "code",
      "source": [],
      "metadata": {
        "id": "_0MYzhYanzPK"
      },
      "execution_count": null,
      "outputs": []
    },
    {
      "cell_type": "markdown",
      "metadata": {
        "id": "f119d43f"
      },
      "source": [
        "### Improved Affordability Calculator.\n",
        "\n",
        "We need to make sure our affordability calculator can handle many data types without stopping - our data is VERY messy. We need to make the following changes to the code below:\n",
        "\n",
        "\n",
        "* Make sure it converts the string in the list below into a float. Print a warning that this was string data. Then process as usual.\n",
        "\n",
        "* Also, have the loop skip any instances of None data type.\n",
        "\n",
        "* Then, remove the generic except statement to avoid processing errors.\n",
        "\n",
        "* Finally, change the hard coded value 50 into a variable so we can change this value based on each customer's budget."
      ]
    },
    {
      "cell_type": "code",
      "execution_count": null,
      "metadata": {
        "id": "fcfa2a1a"
      },
      "outputs": [],
      "source": [
        "price_list = [5.99, None, 19.99, 24.99, 0, '74.99', 99.99]\n",
        "\n",
        "# loop to calculate how many of each item I can buy\n",
        "for price in price_list:\n",
        "    try:\n",
        "        affordable_quantity = 50//price  # My budget is 50 dollars\n",
        "        print(f\"I can buy {affordable_quantity} of these.\")\n",
        "    except ZeroDivisionError:\n",
        "        print(\"This product is free, I can take as many as I like.\")\n",
        "    except:  # need to get rid of general except statement\n",
        "        print('Thats not a number')"
      ]
    },
    {
      "cell_type": "code",
      "execution_count": null,
      "metadata": {
        "id": "17723806"
      },
      "outputs": [],
      "source": []
    },
    {
      "cell_type": "markdown",
      "source": [
        "## Loop Excercises"
      ],
      "metadata": {
        "id": "u5rXJLKgn4dj"
      }
    },
    {
      "cell_type": "code",
      "source": [],
      "metadata": {
        "id": "7ZTDejGGn7j1"
      },
      "execution_count": null,
      "outputs": []
    }
  ]
}