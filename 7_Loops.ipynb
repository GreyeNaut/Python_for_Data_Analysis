{
  "nbformat": 4,
  "nbformat_minor": 0,
  "metadata": {
    "colab": {
      "provenance": [],
      "toc_visible": true,
      "history_visible": true,
      "authorship_tag": "ABX9TyNZox5KN/vR2wik+grrDZyd",
      "include_colab_link": true
    },
    "kernelspec": {
      "name": "python3",
      "display_name": "Python 3"
    },
    "language_info": {
      "name": "python"
    }
  },
  "cells": [
    {
      "cell_type": "markdown",
      "metadata": {
        "id": "view-in-github",
        "colab_type": "text"
      },
      "source": [
        "<a href=\"https://colab.research.google.com/github/GreyeNaut/Python_for_Data_Analysis/blob/main/7_Loops.ipynb\" target=\"_parent\"><img src=\"https://colab.research.google.com/assets/colab-badge.svg\" alt=\"Open In Colab\"/></a>"
      ]
    },
    {
      "cell_type": "markdown",
      "source": [
        "# Loops"
      ],
      "metadata": {
        "id": "D2lRSEg86Os3"
      }
    },
    {
      "cell_type": "markdown",
      "source": [
        "## Loop basics\n",
        "\n",
        "- There are two distinct types of loops: 'for' and 'while' loops\n",
        "\n",
        "1. For loops are used when the number of times the code must run is known (length of a list, tuple, string...)\n",
        "2. While loops run until a certain logical condition is met"
      ],
      "metadata": {
        "id": "vk2zT7_66QvV"
      }
    },
    {
      "cell_type": "markdown",
      "source": [
        "## For Loops"
      ],
      "metadata": {
        "id": "_GoAPqU7AsXR"
      }
    },
    {
      "cell_type": "code",
      "source": [
        "# A for loop allows us to run certain piece of code for every element of a sequence\n",
        "\n",
        "iterable = [\"Backpack\", \"Guitar\", \"Notebook\", \"Coffee Mug\", \"Sunglasses\",\n",
        "            \"Watch\", \"Pen\", \"Headphones\", \"Wallet\", \"Sneakers\"]\n",
        "\n",
        "# This loop cycles through the 'iterable' list\n",
        "# It runs the same number of times as elements are in the iterable, to the iterable[len(iterable)-1] time\n",
        "for item in iterable:\n",
        "  print(item) # Like logicial condition, this piece of code is indented to indicate a fork in the code excecution\n",
        "\n",
        "# Item is a name given for the elements inside an iterable (whatever its name is)\n",
        "\n",
        "# There are three methods to run over sequences with for loops\n",
        "# 1.  The basic \"for item in iterable\", that is best for single sequences\n",
        "\n",
        "prices = [1200, 800, 150, 100, 50, 300, 200, 400, 500, 250]\n",
        "exchange_rate = 0.98\n",
        "new_prices = []\n",
        "\n",
        "for price in prices:\n",
        "  new_price = price*exchange_rate\n",
        "  new_prices.append(new_price)\n",
        "\n",
        "print(f\"The new prices for the prices list is {new_prices}\")\n",
        "\n",
        "# 2. The one that uses the range sequence and the lengtt of a given list, to run\n",
        "# over MULTIPLE lists ate the same time with the index\n",
        "\n",
        "prices = [1200, 800, 150, 100, 50, 300, 200, 400, 500, 250]\n",
        "items = [\"Laptop\", \"Smartphone\", \"Headphones\", \"Keyboard\", \"Mouse\",\n",
        "         \"Monitor\", \"Smartwatch\", \"Tablet\", \"Camera\", \"Speaker\"]\n",
        "\n",
        "for i in range(len(prices)):\n",
        "  new_price = prices[i]*exchange_rate\n",
        "  new_prices.append(new_price)\n",
        "  print(f\"The new price for {items[i]} is {new_price}\")\n",
        "\n",
        "\n",
        "# The better way is to use enumerate(iterable) thus will retuirn the index AND item of a given iterable, as it loops trhough it\n",
        "# Also is more efficient, it does'nt generate a new object\n",
        "\n",
        "print(\"\\n\")\n",
        "\n",
        "for index, item in enumerate(items):\n",
        "  new_price = prices[index]*exchange_rate\n",
        "  new_prices.append(new_price)\n",
        "  print(f\"The new price for {item} is {new_price}\")\n",
        "\n"
      ],
      "metadata": {
        "colab": {
          "base_uri": "https://localhost:8080/"
        },
        "id": "p5I964BB6U9b",
        "outputId": "67756084-d2a2-4d2b-ce40-f9ad6c4d5fac"
      },
      "execution_count": 9,
      "outputs": [
        {
          "output_type": "stream",
          "name": "stdout",
          "text": [
            "Backpack\n",
            "Guitar\n",
            "Notebook\n",
            "Coffee Mug\n",
            "Sunglasses\n",
            "Watch\n",
            "Pen\n",
            "Headphones\n",
            "Wallet\n",
            "Sneakers\n",
            "The new prices for the prices list is [1176.0, 784.0, 147.0, 98.0, 49.0, 294.0, 196.0, 392.0, 490.0, 245.0]\n",
            "The new price for Laptop is 1176.0\n",
            "The new price for Smartphone is 784.0\n",
            "The new price for Headphones is 147.0\n",
            "The new price for Keyboard is 98.0\n",
            "The new price for Mouse is 49.0\n",
            "The new price for Monitor is 294.0\n",
            "The new price for Smartwatch is 196.0\n",
            "The new price for Tablet is 392.0\n",
            "The new price for Camera is 490.0\n",
            "The new price for Speaker is 245.0\n",
            "\n",
            "\n",
            "The new price for Laptop is 1176.0\n",
            "The new price for Smartphone is 784.0\n",
            "The new price for Headphones is 147.0\n",
            "The new price for Keyboard is 98.0\n",
            "The new price for Mouse is 49.0\n",
            "The new price for Monitor is 294.0\n",
            "The new price for Smartwatch is 196.0\n",
            "The new price for Tablet is 392.0\n",
            "The new price for Camera is 490.0\n",
            "The new price for Speaker is 245.0\n"
          ]
        }
      ]
    },
    {
      "cell_type": "markdown",
      "source": [
        "## ASSIGNMENT: For Loops (range)"
      ],
      "metadata": {
        "id": "k7icNzSPBbP-"
      }
    },
    {
      "cell_type": "markdown",
      "metadata": {
        "id": "d5858f7d"
      },
      "source": [
        "### Applying Sales Tax\n",
        "\n",
        "Last weekend our system went down and we didn't have a calculator on site, so we told customers we'd charge them for tax later.\n",
        "\n",
        "The transactions are below."
      ]
    },
    {
      "cell_type": "code",
      "execution_count": null,
      "metadata": {
        "id": "ecf7bfd9"
      },
      "outputs": [],
      "source": [
        "subtotals = [15.98, 899.97, 799.97, 117.96, 5.99, 599.99, 24.99, 1799.94, 99.99]"
      ]
    },
    {
      "cell_type": "markdown",
      "metadata": {
        "id": "e30ee503"
      },
      "source": [
        "Can you apply sales tax to all of the transactions?\n",
        "\n",
        "The tax rate is 8%.\n",
        "\n",
        "Once we've calculated the taxes, we'll need to add them to their subtotals and calculate the the total invoice value.\n",
        "\n",
        "Your code should produce two lists.\n",
        "\n",
        "* `taxes`:The first should be a list of the tax amounts on each transaction, rounded to the nearest .01.\n",
        "\n",
        "* `totals`: The second should be a list where each element is subtotal[i] + tax[i]"
      ]
    },
    {
      "cell_type": "code",
      "execution_count": null,
      "metadata": {
        "id": "70a25441"
      },
      "outputs": [],
      "source": [
        "taxes = []\n",
        "totals = []\n",
        "\n",
        "# This is code Stuart used to calculate the tax and total\n",
        "# for a single subtotal, can you put them in a loop?\n",
        "\n",
        "tax = round(subtotal * .08, 2)\n",
        "total = round(subtotal + tax, 2)\n"
      ]
    },
    {
      "cell_type": "markdown",
      "source": [
        "## ASSIGNMENT: For Loops (enumerate)"
      ],
      "metadata": {
        "id": "Iv-kSs97FvJH"
      }
    },
    {
      "cell_type": "code",
      "source": [],
      "metadata": {
        "id": "vf1sfwAbF3fo"
      },
      "execution_count": null,
      "outputs": []
    }
  ]
}